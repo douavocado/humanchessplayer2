{
  "cells": [
    {
      "cell_type": "raw",
      "metadata": {
        "vscode": {
          "languageId": "raw"
        }
      },
      "source": [
        "# Text Recognition from Screenshots\n",
        "\n",
        "This notebook uses pytesseract to extract text from images in the `development/interface_gui/saved_screenshots/` directory.\n"
      ]
    },
    {
      "cell_type": "code",
      "execution_count": 1,
      "metadata": {},
      "outputs": [],
      "source": [
        "import os\n",
        "import cv2\n",
        "import numpy as np\n",
        "from PIL import Image\n",
        "import pytesseract\n",
        "import matplotlib.pyplot as plt\n",
        "from pathlib import Path\n",
        "import glob\n",
        "\n",
        "# Set up paths\n",
        "screenshots_dir = \"../development/interface_gui/saved_screenshots/\"\n",
        "screenshots_path = Path(screenshots_dir)\n"
      ]
    },
    {
      "cell_type": "code",
      "execution_count": 2,
      "metadata": {},
      "outputs": [
        {
          "name": "stdout",
          "output_type": "stream",
          "text": [
            "Tesseract version: 4.1.1\n"
          ]
        }
      ],
      "source": [
        "# Check if pytesseract is working\n",
        "try:\n",
        "    version = pytesseract.get_tesseract_version()\n",
        "    print(f\"Tesseract version: {version}\")\n",
        "except Exception as e:\n",
        "    print(f\"Error: {e}\")\n",
        "    print(\"Please install tesseract:\")\n",
        "    print(\"  Ubuntu/Debian: sudo apt install tesseract-ocr\")\n",
        "    print(\"  macOS: brew install tesseract\")\n",
        "    print(\"  Windows: Download from https://github.com/UB-Mannheim/tesseract/wiki\")\n"
      ]
    },
    {
      "cell_type": "code",
      "execution_count": 3,
      "metadata": {},
      "outputs": [
        {
          "name": "stdout",
          "output_type": "stream",
          "text": [
            "Found 6 image(s):\n",
            "  1. after_one_move_own.png\n",
            "  2. before_any_move_own.png\n",
            "  3. start_opp_aborted.png\n",
            "  4. start_opp_incorrect.png\n",
            "  5. start_own_aborted.png\n",
            "  6. start_own_incorrect.png\n"
          ]
        }
      ],
      "source": [
        "# List available screenshot images\n",
        "def list_available_images():\n",
        "    \"\"\"List all image files in the screenshots directory\"\"\"\n",
        "    image_extensions = ['*.png', '*.jpg', '*.jpeg', '*.bmp', '*.tiff', '*.gif']\n",
        "    \n",
        "    available_images = []\n",
        "    for ext in image_extensions:\n",
        "        pattern = str(screenshots_path / ext)\n",
        "        available_images.extend(glob.glob(pattern))\n",
        "    \n",
        "    # Get just the filenames\n",
        "    available_images = [os.path.basename(img) for img in available_images]\n",
        "    \n",
        "    return sorted(available_images)\n",
        "\n",
        "available_images = list_available_images()\n",
        "print(f\"Found {len(available_images)} image(s):\")\n",
        "for i, img in enumerate(available_images):\n",
        "    print(f\"  {i+1}. {img}\")\n"
      ]
    },
    {
      "cell_type": "code",
      "execution_count": 4,
      "metadata": {},
      "outputs": [],
      "source": [
        "def preprocess_image(image_path, preprocess_type=\"default\"):\n",
        "    \"\"\"\n",
        "    Preprocess image for better OCR results\n",
        "    \n",
        "    Args:\n",
        "        image_path: Path to the image\n",
        "        preprocess_type: Type of preprocessing to apply\n",
        "            - \"default\": Basic grayscale and thresholding\n",
        "            - \"enhanced\": Additional noise reduction and morphological operations\n",
        "            - \"none\": No preprocessing\n",
        "    \n",
        "    Returns:\n",
        "        Preprocessed image\n",
        "    \"\"\"\n",
        "    # Read image\n",
        "    img = cv2.imread(str(image_path))\n",
        "    \n",
        "    if img is None:\n",
        "        raise ValueError(f\"Could not load image from {image_path}\")\n",
        "    \n",
        "    if preprocess_type == \"none\":\n",
        "        return img\n",
        "    \n",
        "    # Convert to grayscale\n",
        "    gray = cv2.cvtColor(img, cv2.COLOR_BGR2GRAY)\n",
        "    \n",
        "    if preprocess_type == \"default\":\n",
        "        # Apply threshold to get image with only black and white\n",
        "        _, thresh = cv2.threshold(gray, 0, 255, cv2.THRESH_BINARY + cv2.THRESH_OTSU)\n",
        "        return thresh\n",
        "    \n",
        "    elif preprocess_type == \"enhanced\":\n",
        "        # Noise removal\n",
        "        denoised = cv2.medianBlur(gray, 5)\n",
        "        \n",
        "        # Thresholding\n",
        "        _, thresh = cv2.threshold(denoised, 0, 255, cv2.THRESH_BINARY + cv2.THRESH_OTSU)\n",
        "        \n",
        "        # Morphological operations to remove noise\n",
        "        kernel = np.ones((1, 1), np.uint8)\n",
        "        opening = cv2.morphologyEx(thresh, cv2.MORPH_OPEN, kernel, iterations=1)\n",
        "        \n",
        "        # Sure background area\n",
        "        sure_bg = cv2.dilate(opening, kernel, iterations=3)\n",
        "        \n",
        "        return sure_bg\n",
        "    \n",
        "    return gray\n"
      ]
    },
    {
      "cell_type": "code",
      "execution_count": 14,
      "metadata": {},
      "outputs": [],
      "source": [
        "def extract_text_from_image(image_filename, preprocess_type=\"default\", custom_config=\"\"):\n",
        "    \"\"\"\n",
        "    Extract text from a single image using pytesseract\n",
        "    \n",
        "    Args:\n",
        "        image_filename: Name of the image file in the screenshots directory\n",
        "        preprocess_type: Type of image preprocessing to apply\n",
        "        custom_config: Custom tesseract configuration string\n",
        "    \n",
        "    Returns:\n",
        "        Dictionary containing extracted text and metadata\n",
        "    \"\"\"\n",
        "    image_path = screenshots_path / image_filename\n",
        "    \n",
        "    if not image_path.exists():\n",
        "        return {\"error\": f\"Image {image_filename} not found\"}\n",
        "    \n",
        "    try:\n",
        "        # Preprocess the image\n",
        "        processed_img = preprocess_image(image_path, preprocess_type)\n",
        "        \n",
        "        # Default tesseract config for better results with various text\n",
        "        if not custom_config:\n",
        "            custom_config = '--oem 3 --psm 7'\n",
        "        \n",
        "        # Extract text\n",
        "        text = pytesseract.image_to_string(processed_img, config=custom_config)\n",
        "        \n",
        "        # Get additional data (confidence scores, bounding boxes, etc.)\n",
        "        data = pytesseract.image_to_data(processed_img, output_type=pytesseract.Output.DICT, config=custom_config)\n",
        "        \n",
        "        # Filter out low-confidence text\n",
        "        confidences = [int(conf) for conf in data['conf'] if int(conf) > 0]\n",
        "        avg_confidence = sum(confidences) / len(confidences) if confidences else 0\n",
        "        \n",
        "        return {\n",
        "            \"filename\": image_filename,\n",
        "            \"text\": text.strip(),\n",
        "            \"average_confidence\": avg_confidence,\n",
        "            \"preprocessing\": preprocess_type,\n",
        "            \"total_words\": len([word for word in data['text'] if word.strip()]),\n",
        "            \"high_confidence_words\": len([conf for conf in confidences if conf > 70])\n",
        "        }\n",
        "        \n",
        "    except Exception as e:\n",
        "        return {\"error\": str(e), \"filename\": image_filename}\n"
      ]
    },
    {
      "cell_type": "code",
      "execution_count": 15,
      "metadata": {},
      "outputs": [],
      "source": [
        "def display_image_and_text(image_filename, result, show_preprocessed=True):\n",
        "    \"\"\"\n",
        "    Display the original image, preprocessed image, and extracted text\n",
        "    \n",
        "    Args:\n",
        "        image_filename: Name of the image file\n",
        "        result: Result dictionary from extract_text_from_image\n",
        "        show_preprocessed: Whether to show the preprocessed image\n",
        "    \"\"\"\n",
        "    if \"error\" in result:\n",
        "        print(f\"Error processing {image_filename}: {result['error']}\")\n",
        "        return\n",
        "    \n",
        "    image_path = screenshots_path / image_filename\n",
        "    original_img = cv2.imread(str(image_path))\n",
        "    original_rgb = cv2.cvtColor(original_img, cv2.COLOR_BGR2RGB)\n",
        "    \n",
        "    if show_preprocessed:\n",
        "        processed_img = preprocess_image(image_path, result['preprocessing'])\n",
        "        \n",
        "        fig, axes = plt.subplots(1, 2, figsize=(15, 6))\n",
        "        \n",
        "        # Original image\n",
        "        axes[0].imshow(original_rgb)\n",
        "        axes[0].set_title(f\"Original: {image_filename}\")\n",
        "        axes[0].axis('off')\n",
        "        \n",
        "        # Preprocessed image\n",
        "        if len(processed_img.shape) == 2:  # Grayscale\n",
        "            axes[1].imshow(processed_img, cmap='gray')\n",
        "        else:\n",
        "            axes[1].imshow(cv2.cvtColor(processed_img, cv2.COLOR_BGR2RGB))\n",
        "        axes[1].set_title(f\"Preprocessed ({result['preprocessing']})\")\n",
        "        axes[1].axis('off')\n",
        "        \n",
        "        plt.tight_layout()\n",
        "        plt.show()\n",
        "    else:\n",
        "        plt.figure(figsize=(10, 6))\n",
        "        plt.imshow(original_rgb)\n",
        "        plt.title(f\"Original: {image_filename}\")\n",
        "        plt.axis('off')\n",
        "        plt.show()\n",
        "    \n",
        "    # Display extracted text and metadata\n",
        "    print(f\"\\n📄 Extracted Text from {image_filename}:\")\n",
        "    print(\"=\" * 50)\n",
        "    if result['text']:\n",
        "        print(result['text'])\n",
        "    else:\n",
        "        print(\"No text detected\")\n",
        "    \n",
        "    print(\"\\n📊 Metadata:\")\n",
        "    print(f\"  Average Confidence: {result['average_confidence']:.1f}%\")\n",
        "    print(f\"  Total Words: {result['total_words']}\")\n",
        "    print(f\"  High Confidence Words (>70%): {result['high_confidence_words']}\")\n",
        "    print(f\"  Preprocessing: {result['preprocessing']}\")\n",
        "    print(\"=\" * 50)\n"
      ]
    },
    {
      "cell_type": "raw",
      "metadata": {
        "vscode": {
          "languageId": "raw"
        }
      },
      "source": [
        "## Specify Images to Process\n",
        "\n",
        "You can process specific images by modifying the `images_to_process` list below. You can also adjust the preprocessing type and tesseract configuration.\n"
      ]
    },
    {
      "cell_type": "code",
      "execution_count": 16,
      "metadata": {},
      "outputs": [
        {
          "name": "stdout",
          "output_type": "stream",
          "text": [
            "Will process 6 image(s):\n",
            "  • after_one_move_own.png\n",
            "  • before_any_move_own.png\n",
            "  • start_opp_aborted.png\n",
            "  • start_opp_incorrect.png\n",
            "  • start_own_aborted.png\n",
            "  • start_own_incorrect.png\n"
          ]
        }
      ],
      "source": [
        "# ===== CONFIGURATION =====\n",
        "# Specify which images to process (leave empty to process all available images)\n",
        "images_to_process = [\n",
        "    \"after_one_move_own.png\",\n",
        "    \"before_any_move_own.png\",\n",
        "    \"start_opp_aborted.png\",\n",
        "    \"start_opp_incorrect.png\",\n",
        "    \"start_own_aborted.png\",\n",
        "    \"start_own_incorrect.png\"\n",
        "]\n",
        "\n",
        "# If empty, process all available images\n",
        "if not images_to_process:\n",
        "    images_to_process = available_images\n",
        "\n",
        "# Preprocessing options: \"default\", \"enhanced\", \"none\"\n",
        "preprocessing_type = \"default\"\n",
        "\n",
        "# Custom tesseract configuration (leave empty for default)\n",
        "custom_tesseract_config = \"\"  # e.g., \"--oem 3 --psm 8\" for single word, \"--oem 3 --psm 4\" for single column\n",
        "\n",
        "print(f\"Will process {len(images_to_process)} image(s):\")\n",
        "for img in images_to_process:\n",
        "    print(f\"  • {img}\")\n"
      ]
    },
    {
      "cell_type": "code",
      "execution_count": 17,
      "metadata": {},
      "outputs": [
        {
          "name": "stdout",
          "output_type": "stream",
          "text": [
            "\n",
            "🔍 Processing: after_one_move_own.png\n",
            "------------------------------\n"
          ]
        },
        {
          "data": {
            "image/png": "[encoded data removed]",
            "text/plain": [
              "<Figure size 1500x600 with 2 Axes>"
            ]
          },
          "metadata": {},
          "output_type": "display_data"
        },
        {
          "name": "stdout",
          "output_type": "stream",
          "text": [
            "\n",
            "📄 Extracted Text from after_one_move_own.png:\n",
            "==================================================\n",
            "1500?\n",
            "\n",
            "📊 Metadata:\n",
            "  Average Confidence: 93.0%\n",
            "  Total Words: 1\n",
            "  High Confidence Words (>70%): 1\n",
            "  Preprocessing: default\n",
            "==================================================\n",
            "\n",
            "🔍 Processing: before_any_move_own.png\n",
            "------------------------------\n"
          ]
        },
        {
          "data": {
            "image/png": "[encoded data removed]",
            "text/plain": [
              "<Figure size 1500x600 with 2 Axes>"
            ]
          },
          "metadata": {},
          "output_type": "display_data"
        },
        {
          "name": "stdout",
          "output_type": "stream",
          "text": [
            "\n",
            "📄 Extracted Text from before_any_move_own.png:\n",
            "==================================================\n",
            "1500?\n",
            "\n",
            "📊 Metadata:\n",
            "  Average Confidence: 86.0%\n",
            "  Total Words: 1\n",
            "  High Confidence Words (>70%): 1\n",
            "  Preprocessing: default\n",
            "==================================================\n",
            "\n",
            "🔍 Processing: start_opp_aborted.png\n",
            "------------------------------\n"
          ]
        },
        {
          "data": {
            "image/png": "[encoded data removed]",
            "text/plain": [
              "<Figure size 1500x600 with 2 Axes>"
            ]
          },
          "metadata": {},
          "output_type": "display_data"
        },
        {
          "name": "stdout",
          "output_type": "stream",
          "text": [
            "\n",
            "📄 Extracted Text from start_opp_aborted.png:\n",
            "==================================================\n",
            "TOuer\n",
            "\n",
            "📊 Metadata:\n",
            "  Average Confidence: 0.0%\n",
            "  Total Words: 1\n",
            "  High Confidence Words (>70%): 0\n",
            "  Preprocessing: default\n",
            "==================================================\n",
            "\n",
            "🔍 Processing: start_opp_incorrect.png\n",
            "------------------------------\n"
          ]
        },
        {
          "data": {
            "image/png": "[encoded data removed]",
            "text/plain": [
              "<Figure size 1500x600 with 2 Axes>"
            ]
          },
          "metadata": {},
          "output_type": "display_data"
        },
        {
          "name": "stdout",
          "output_type": "stream",
          "text": [
            "\n",
            "📄 Extracted Text from start_opp_incorrect.png:\n",
            "==================================================\n",
            "_—\n",
            "\n",
            "📊 Metadata:\n",
            "  Average Confidence: 3.0%\n",
            "  Total Words: 1\n",
            "  High Confidence Words (>70%): 0\n",
            "  Preprocessing: default\n",
            "==================================================\n",
            "\n",
            "🔍 Processing: start_own_aborted.png\n",
            "------------------------------\n"
          ]
        },
        {
          "data": {
            "image/png": "[encoded data removed]",
            "text/plain": [
              "<Figure size 1500x600 with 2 Axes>"
            ]
          },
          "metadata": {},
          "output_type": "display_data"
        },
        {
          "name": "stdout",
          "output_type": "stream",
          "text": [
            "\n",
            "📄 Extracted Text from start_own_aborted.png:\n",
            "==================================================\n",
            "46949\n",
            "\n",
            "📊 Metadata:\n",
            "  Average Confidence: 47.0%\n",
            "  Total Words: 1\n",
            "  High Confidence Words (>70%): 0\n",
            "  Preprocessing: default\n",
            "==================================================\n",
            "\n",
            "🔍 Processing: start_own_incorrect.png\n",
            "------------------------------\n"
          ]
        },
        {
          "data": {
            "image/png": "[encoded data removed]",
            "text/plain": [
              "<Figure size 1500x600 with 2 Axes>"
            ]
          },
          "metadata": {},
          "output_type": "display_data"
        },
        {
          "name": "stdout",
          "output_type": "stream",
          "text": [
            "\n",
            "📄 Extracted Text from start_own_incorrect.png:\n",
            "==================================================\n",
            "oe\n",
            "\n",
            "📊 Metadata:\n",
            "  Average Confidence: 26.0%\n",
            "  Total Words: 1\n",
            "  High Confidence Words (>70%): 0\n",
            "  Preprocessing: default\n",
            "==================================================\n",
            "\n",
            "✅ Completed processing 6 image(s)\n"
          ]
        }
      ],
      "source": [
        "# ===== PROCESS IMAGES =====\n",
        "results = []\n",
        "\n",
        "for image_filename in images_to_process:\n",
        "    print(f\"\\n🔍 Processing: {image_filename}\")\n",
        "    print(\"-\" * 30)\n",
        "    \n",
        "    # Extract text from the image\n",
        "    result = extract_text_from_image(\n",
        "        image_filename, \n",
        "        preprocess_type=preprocessing_type,\n",
        "        custom_config=custom_tesseract_config\n",
        "    )\n",
        "    \n",
        "    results.append(result)\n",
        "    \n",
        "    # Display the image and results\n",
        "    display_image_and_text(image_filename, result, show_preprocessed=True)\n",
        "\n",
        "print(f\"\\n✅ Completed processing {len(results)} image(s)\")\n"
      ]
    },
    {
      "cell_type": "raw",
      "metadata": {
        "vscode": {
          "languageId": "raw"
        }
      },
      "source": [
        "## Summary and Additional Options\n"
      ]
    },
    {
      "cell_type": "code",
      "execution_count": 9,
      "metadata": {},
      "outputs": [
        {
          "name": "stdout",
          "output_type": "stream",
          "text": [
            "📊 Processing Summary:\n",
            "               Filename  Text Length Avg Confidence  Total Words  High Confidence Words Has Text\n",
            " after_one_move_own.png            5          93.0%            1                      1      Yes\n",
            "before_any_move_own.png            5          86.0%            1                      1      Yes\n",
            "  start_opp_aborted.png            5           0.0%            1                      0      Yes\n",
            "start_opp_incorrect.png            0           0.0%            0                      0       No\n",
            "  start_own_aborted.png            5          47.0%            1                      0      Yes\n",
            "start_own_incorrect.png            0           0.0%            0                      0       No\n"
          ]
        }
      ],
      "source": [
        "# ===== SUMMARY =====\n",
        "import pandas as pd\n",
        "\n",
        "# Create a summary dataframe\n",
        "summary_data = []\n",
        "for result in results:\n",
        "    if \"error\" not in result:\n",
        "        summary_data.append({\n",
        "            \"Filename\": result[\"filename\"],\n",
        "            \"Text Length\": len(result[\"text\"]),\n",
        "            \"Avg Confidence\": f\"{result['average_confidence']:.1f}%\",\n",
        "            \"Total Words\": result[\"total_words\"],\n",
        "            \"High Confidence Words\": result[\"high_confidence_words\"],\n",
        "            \"Has Text\": \"Yes\" if result[\"text\"].strip() else \"No\"\n",
        "        })\n",
        "    else:\n",
        "        summary_data.append({\n",
        "            \"Filename\": result[\"filename\"],\n",
        "            \"Text Length\": 0,\n",
        "            \"Avg Confidence\": \"Error\",\n",
        "            \"Total Words\": 0,\n",
        "            \"High Confidence Words\": 0,\n",
        "            \"Has Text\": \"Error\"\n",
        "        })\n",
        "\n",
        "if summary_data:\n",
        "    summary_df = pd.DataFrame(summary_data)\n",
        "    print(\"📊 Processing Summary:\")\n",
        "    print(summary_df.to_string(index=False))\n",
        "else:\n",
        "    print(\"No results to summarise.\")\n"
      ]
    },
    {
      "cell_type": "code",
      "execution_count": 10,
      "metadata": {},
      "outputs": [],
      "source": [
        "# ===== UTILITY: COMPARE PREPROCESSING METHODS =====\n",
        "def compare_preprocessing_methods(image_filename):\n",
        "    \"\"\"\n",
        "    Compare different preprocessing methods on the same image\n",
        "    \"\"\"\n",
        "    if image_filename not in available_images:\n",
        "        print(f\"Image {image_filename} not found. Available images: {available_images}\")\n",
        "        return\n",
        "    \n",
        "    preprocessing_methods = [\"none\", \"default\", \"enhanced\"]\n",
        "    \n",
        "    print(f\"🔬 Comparing preprocessing methods for: {image_filename}\")\n",
        "    print(\"=\" * 60)\n",
        "    \n",
        "    for method in preprocessing_methods:\n",
        "        print(f\"\\n--- {method.upper()} PREPROCESSING ---\")\n",
        "        result = extract_text_from_image(image_filename, preprocess_type=method)\n",
        "        \n",
        "        if \"error\" not in result:\n",
        "            print(f\"Text: {result['text'][:100]}{'...' if len(result['text']) > 100 else ''}\")\n",
        "            print(f\"Confidence: {result['average_confidence']:.1f}%\")\n",
        "            print(f\"Words: {result['total_words']}\")\n",
        "        else:\n",
        "            print(f\"Error: {result['error']}\")\n",
        "\n",
        "# Example usage (uncomment to test):\n",
        "# compare_preprocessing_methods(\"after_one_move_own.png\")\n"
      ]
    },
    {
      "cell_type": "code",
      "execution_count": null,
      "metadata": {},
      "outputs": [],
      "source": []
    }
  ],
  "metadata": {
    "kernelspec": {
      "display_name": "humanchess2",
      "language": "python",
      "name": "python3"
    },
    "language_info": {
      "codemirror_mode": {
        "name": "ipython",
        "version": 3
      },
      "file_extension": ".py",
      "mimetype": "text/x-python",
      "name": "python",
      "nbconvert_exporter": "python",
      "pygments_lexer": "ipython3",
      "version": "3.12.2"
    }
  },
  "nbformat": 4,
  "nbformat_minor": 2
}
